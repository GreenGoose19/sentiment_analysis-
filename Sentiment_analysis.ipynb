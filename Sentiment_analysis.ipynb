{
  "nbformat": 4,
  "nbformat_minor": 0,
  "metadata": {
    "colab": {
      "provenance": [],
      "authorship_tag": "ABX9TyOLnbQPJbv0HnIF6Kbm9MUX",
      "include_colab_link": true
    },
    "kernelspec": {
      "name": "python3",
      "display_name": "Python 3"
    },
    "language_info": {
      "name": "python"
    }
  },
  "cells": [
    {
      "cell_type": "markdown",
      "metadata": {
        "id": "view-in-github",
        "colab_type": "text"
      },
      "source": [
        "<a href=\"https://colab.research.google.com/github/GreenGoose19/sentiment_analysis-/blob/main/Sentiment_analysis.ipynb\" target=\"_parent\"><img src=\"https://colab.research.google.com/assets/colab-badge.svg\" alt=\"Open In Colab\"/></a>"
      ]
    },
    {
      "cell_type": "code",
      "execution_count": null,
      "metadata": {
        "colab": {
          "base_uri": "https://localhost:8080/"
        },
        "id": "JHuab1UjoLtI",
        "outputId": "4a999f43-fd49-46da-f39b-9fa1e281d719"
      },
      "outputs": [
        {
          "output_type": "stream",
          "name": "stderr",
          "text": [
            "[nltk_data] Downloading package vader_lexicon to /root/nltk_data...\n"
          ]
        },
        {
          "output_type": "execute_result",
          "data": {
            "text/plain": [
              "True"
            ]
          },
          "metadata": {},
          "execution_count": 10
        }
      ],
      "source": [
        "import requests as re\n",
        "from bs4 import BeautifulSoup as bs\n",
        "import nltk\n",
        "from nltk.sentiment import SentimentIntensityAnalyzer\n",
        "nltk.download('vader_lexicon')"
      ]
    },
    {
      "cell_type": "code",
      "source": [
        "page=re.get(\"https://www.imdb.com/title/tt1086761/reviews?ref_=tt_urv\")\n",
        "soup = bs(page.content, 'html.parser')\n",
        "reviews=soup.find_all(class_=\"text show-more__control\")\n",
        "sia=SentimentIntensityAnalyzer()\n",
        "positive,negetive,neutral=0,0,0\n",
        "total_reviews = len(reviews)\n",
        "\n",
        "for i in reviews:\n",
        "  text=i.get_text()\n",
        "  score=sia.polarity_scores(text)['compound']\n",
        "  if score>0:\n",
        "    positive+=1\n",
        "  elif score<0:\n",
        "    negetive+=1\n",
        "  else:\n",
        "    neutral+=1\n",
        "\n",
        "if positive>negetive:\n",
        "  print(\"watch the show\")\n",
        "else:\n",
        "  print(\"Dont watch\")\n",
        "print(\"positive: \",positive)\n",
        "print(\"neutral: \",neutral)\n",
        "print(\"negetive: \",negetive)\n",
        "print(\"total: \",total_reviews)\n",
        "\n",
        "\n",
        "\n",
        "\n"
      ],
      "metadata": {
        "colab": {
          "base_uri": "https://localhost:8080/"
        },
        "id": "pB_VHqThvY7v",
        "outputId": "2db76328-1e2f-452d-f961-3b57d1bb9b3f"
      },
      "execution_count": 23,
      "outputs": [
        {
          "output_type": "stream",
          "name": "stdout",
          "text": [
            "watch the show\n",
            "positive:  12\n",
            "neutral:  2\n",
            "negetive:  11\n",
            "total:  25\n"
          ]
        }
      ]
    },
    {
      "cell_type": "code",
      "source": [],
      "metadata": {
        "id": "UJTHSs4lFbtx"
      },
      "execution_count": null,
      "outputs": []
    }
  ]
}